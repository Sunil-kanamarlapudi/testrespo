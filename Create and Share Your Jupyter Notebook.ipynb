{
 "cells": [
  {
   "cell_type": "markdown",
   "id": "b4e9be0a-906f-4dc4-853b-5f7a4d47b212",
   "metadata": {},
   "source": [
    "# My Jupyter Notebook on IBM Watson Studio"
   ]
  },
  {
   "cell_type": "markdown",
   "id": "93e99b0f-4abe-4999-aefe-ec2249e947bd",
   "metadata": {},
   "source": [
    "**Sunil Kanamarlapudi**          \n",
    "Proposal Management/Presales/Bid Management"
   ]
  },
  {
   "cell_type": "markdown",
   "id": "98c24e22-f6be-4197-ab15-adf1dfb6b15d",
   "metadata": {},
   "source": [
    "*I would like to pursue my career in data science, as I am interested in in finding the connections between the numbers and organization driven decisions that can be taken from the findings derived from data*"
   ]
  },
  {
   "cell_type": "markdown",
   "id": "4c6d8c37-048c-4991-aee9-e7701361e10a",
   "metadata": {},
   "source": [
    "### Print \"Hello Sunil\", Summing of \"1+10\" and Subtracting \"20-5\""
   ]
  },
  {
   "cell_type": "code",
   "execution_count": 6,
   "id": "e6dc9110-b801-458c-82e2-a7a184a43f18",
   "metadata": {},
   "outputs": [
    {
     "name": "stdout",
     "output_type": "stream",
     "text": [
      "Hello Sunil\n",
      "Sum= 11\n",
      "Substract= 15\n"
     ]
    }
   ],
   "source": [
    "print(\"Hello Sunil\")\n",
    "print(\"Sum=\", 1+10)\n",
    "print(\"Substract=\", 20-5)"
   ]
  },
  {
   "cell_type": "markdown",
   "id": "6368664e-61b6-4745-9805-168fb675aae2",
   "metadata": {},
   "source": [
    "horizontal rule, bulleted list, numbered list, tables, hyperlinks, images, code/syntax highlighting, blocked quotes, strikethrough.\n",
    "\n",
    "---\n",
    "\n",
    "```python\n",
    "s = \"Python syntax highlighting\"\n",
    "print s\n",
    "```\n",
    "```javascript\n",
    "var s = \"JavaScript syntax highlighting\";\n",
    "alert(s);\n",
    "```\n",
    "~~Hello~~\n",
    "\n",
    "---"
   ]
  },
  {
   "cell_type": "code",
   "execution_count": null,
   "id": "1e5d2166-0032-4812-b913-d68f74714db6",
   "metadata": {},
   "outputs": [],
   "source": []
  }
 ],
 "metadata": {
  "kernelspec": {
   "display_name": "Python",
   "language": "python",
   "name": "conda-env-python-py"
  },
  "language_info": {
   "codemirror_mode": {
    "name": "ipython",
    "version": 3
   },
   "file_extension": ".py",
   "mimetype": "text/x-python",
   "name": "python",
   "nbconvert_exporter": "python",
   "pygments_lexer": "ipython3",
   "version": "3.7.12"
  }
 },
 "nbformat": 4,
 "nbformat_minor": 5
}
